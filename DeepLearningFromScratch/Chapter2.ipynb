{
 "cells": [
  {
   "cell_type": "markdown",
   "source": [
    "# Chapter 2 퍼셉트론 "
   ],
   "metadata": {
    "collapsed": false
   },
   "id": "6c031c022c268b6d"
  },
  {
   "cell_type": "markdown",
   "source": [
    "## 2.1 퍼셉트론이란?\n",
    "다수의 입력(x)을 받아 가중치(w)를 부여하고, 임계값($\\theta$)에 따라 결과(y)를 출력하는 구조\n",
    "\n",
    "ex) \n",
    "$$ y = \\begin{cases}\n",
    "0 (w_{1}x_{1} + w_{2}x_{2} \\le \\theta) \\\\\n",
    "1 (w_{1}x_{1} + w_{2}x_{2} > \\theta)\n",
    "\\end{cases}$$\n",
    "\n",
    "가중치가 클수록 해당 신호가 중요함을 알 수 있다."
   ],
   "metadata": {
    "collapsed": false
   },
   "id": "145ecd5d3a18f7f6"
  },
  {
   "cell_type": "markdown",
   "source": [
    "## 2.2 단순한 논리회로\n",
    "\n",
    "#### AND 게이트\n",
    "입력이 모두 1일 경우 1을 출력, 그렇지 않은 경우 0을 출력  \n",
    "\n",
    "#### NAND 게이트 (Not AND)\n",
    "입력이 모두 1일 경우 0을 출력, 그렇지 않은 경우 1을 출력  \n",
    "\n",
    "#### OR 게이트\n",
    "입력이 서로 다를 경우 1을 출력, 그렇지 않은 경우 0을 출력"
   ],
   "metadata": {
    "collapsed": false
   },
   "id": "978e18e0df926e2"
  },
  {
   "cell_type": "markdown",
   "source": [
    "## 2.3 퍼셉트론 구현하기"
   ],
   "metadata": {
    "collapsed": false
   },
   "id": "2abca5c220ccceab"
  },
  {
   "cell_type": "code",
   "execution_count": 1,
   "outputs": [],
   "source": [
    "# 간단한 구현\n",
    "def AND(x1, x2):\n",
    "    (w1, w2, theta) = 0.5, 0.5, 0.7\n",
    "    temp = x1 * w1 + x2 * w2\n",
    "    if temp > theta: # 임계값 초과\n",
    "        return 1\n",
    "    else : # 임계값 미만\n",
    "        return 0"
   ],
   "metadata": {
    "collapsed": false,
    "ExecuteTime": {
     "end_time": "2023-12-14T06:32:46.283953Z",
     "start_time": "2023-12-14T06:32:46.266107Z"
    }
   },
   "id": "8b21fe5ea21d43f6"
  },
  {
   "cell_type": "code",
   "execution_count": 2,
   "outputs": [
    {
     "data": {
      "text/plain": "1"
     },
     "execution_count": 2,
     "metadata": {},
     "output_type": "execute_result"
    }
   ],
   "source": [
    "AND(0, 0) # 0 출력\n",
    "AND(1, 0) # 0 출력\n",
    "AND(0, 1) # 0 출력\n",
    "AND(1, 1) # 1 출력"
   ],
   "metadata": {
    "collapsed": false,
    "ExecuteTime": {
     "end_time": "2023-12-14T06:32:46.284627Z",
     "start_time": "2023-12-14T06:32:46.270128Z"
    }
   },
   "id": "534037735d22da98"
  },
  {
   "cell_type": "markdown",
   "source": [
    "$\\theta$를 넘겨 b로 바꾼 모습을 식으로 표현하면 다음과 같다.\n",
    "\n",
    "$$ y = \n",
    "\\begin{cases}\n",
    "0 (b + w_1x_1 + w_2x_2 \\le 0) \\\\\n",
    "1 (b + w_1x_1 + w_2x_2 > 0)\n",
    "\\end{cases}$$"
   ],
   "metadata": {
    "collapsed": false
   },
   "id": "e88c78acad79e05"
  },
  {
   "cell_type": "code",
   "execution_count": 3,
   "outputs": [
    {
     "name": "stdout",
     "output_type": "stream",
     "text": [
      "[0.  0.5]\n",
      "-0.19999999999999996\n"
     ]
    }
   ],
   "source": [
    "# 가중치와 편향 도입\n",
    "import numpy as np\n",
    "x = np.array([0, 1])\n",
    "w = np.array([0.5, 0.5])\n",
    "b = -0.7 # theta 를 이항한 값\n",
    "print(w * x)\n",
    "print(np.sum(w * x) + b)\n",
    "\n",
    "# numpy의 곱셉은 두 배열의 원소가 같다면 각 원소끼리 곱 진행"
   ],
   "metadata": {
    "collapsed": false,
    "ExecuteTime": {
     "end_time": "2023-12-14T06:32:46.395810Z",
     "start_time": "2023-12-14T06:32:46.272376Z"
    }
   },
   "id": "f6ca92eb884126a3"
  },
  {
   "cell_type": "code",
   "execution_count": 4,
   "outputs": [],
   "source": [
    "#가중치와 편향 구현\n",
    "def AND(x1, x2):\n",
    "    x = np.array([x1,x2])\n",
    "    w = np.array([0.5, 0.5])\n",
    "    b = -0.7\n",
    "    temp = np.sum(w * x) + b\n",
    "    if temp > 0:\n",
    "        return 1\n",
    "    else :\n",
    "        return 0"
   ],
   "metadata": {
    "collapsed": false,
    "ExecuteTime": {
     "end_time": "2023-12-14T06:32:46.409001Z",
     "start_time": "2023-12-14T06:32:46.400328Z"
    }
   },
   "id": "9094e63d5b47b8ba"
  },
  {
   "cell_type": "code",
   "execution_count": 5,
   "outputs": [],
   "source": [
    "#NAND 구현\n",
    "def NAND(x1, x2):\n",
    "    x = np.array([x1,x2])\n",
    "    w = np.array([-0.5, -0.5])\n",
    "    b = 0.7\n",
    "    temp = np.sum(w * x) + b \n",
    "    if temp > 0:\n",
    "        return 1\n",
    "    else :\n",
    "        return 0"
   ],
   "metadata": {
    "collapsed": false,
    "ExecuteTime": {
     "end_time": "2023-12-14T06:32:46.409432Z",
     "start_time": "2023-12-14T06:32:46.404378Z"
    }
   },
   "id": "c66b27e3d1e9e8a3"
  },
  {
   "cell_type": "code",
   "execution_count": 6,
   "outputs": [],
   "source": [
    "#OR 구현\n",
    "def OR(x1, x2):\n",
    "    x = np.array([x1,x2])\n",
    "    w = np.array([0.5, 0.5])\n",
    "    b = -0.2\n",
    "    temp = np.sum(w * x) + b  \n",
    "    if temp > 0:\n",
    "        return 1\n",
    "    else:\n",
    "        return 0"
   ],
   "metadata": {
    "collapsed": false,
    "ExecuteTime": {
     "end_time": "2023-12-14T06:32:46.416639Z",
     "start_time": "2023-12-14T06:32:46.410085Z"
    }
   },
   "id": "664f9495cacee161"
  },
  {
   "cell_type": "markdown",
   "source": [
    "AND, NAND, OR 모두 같은 구조임.\n",
    "가중치와 편향의 값에 따라 각각으로 구분된다."
   ],
   "metadata": {
    "collapsed": false
   },
   "id": "8b01133fa7310394"
  },
  {
   "cell_type": "markdown",
   "source": [
    "## 2.4 퍼셉트론의 한계\n",
    "\n",
    "### XOR 게이트\n",
    "입력중 한개만 1일 경우 1을 출력\n",
    "  \n",
    "선형일 경우 해결할 수 없지만, 비선형일 경우 해결 가능\n",
    "하지만 퍼셉트론은 선형이므로, 다층 퍼셉트론 (Multi-layer perceptron)을 통해 문제 해결 가능"
   ],
   "metadata": {
    "collapsed": false
   },
   "id": "13c788fd62307629"
  },
  {
   "cell_type": "markdown",
   "source": [
    "## 2.5 다층 퍼셉트론   \n",
    "AND, NAND, OR을 사용하면 구현 가능\n",
    "1층 (NAND, OR)\n",
    "2층 (AND)로 구성되어 있다."
   ],
   "metadata": {
    "collapsed": false
   },
   "id": "6991cbe53ec33e6a"
  },
  {
   "cell_type": "code",
   "execution_count": 7,
   "outputs": [],
   "source": [
    "def XOR(x1, x2):\n",
    "    s1 = NAND(x1, x2)\n",
    "    s2 = OR(x1, x2)\n",
    "    y = AND(s1, s2)\n",
    "    return y\n",
    "    "
   ],
   "metadata": {
    "collapsed": false,
    "ExecuteTime": {
     "end_time": "2023-12-14T06:32:46.416832Z",
     "start_time": "2023-12-14T06:32:46.412718Z"
    }
   },
   "id": "cdc2cea6e651ce9"
  },
  {
   "cell_type": "code",
   "execution_count": 8,
   "outputs": [
    {
     "data": {
      "text/plain": "0"
     },
     "execution_count": 8,
     "metadata": {},
     "output_type": "execute_result"
    }
   ],
   "source": [
    "XOR(0, 0) #0을 출력\n",
    "XOR(1, 0) #1을 출력\n",
    "XOR(0, 1) #1을 출력\n",
    "XOR(1, 1) #0을 출력"
   ],
   "metadata": {
    "collapsed": false,
    "ExecuteTime": {
     "end_time": "2023-12-14T06:32:46.548207Z",
     "start_time": "2023-12-14T06:32:46.419467Z"
    }
   },
   "id": "c1310119b12e3c60"
  },
  {
   "cell_type": "markdown",
   "source": [
    "## 정리\n",
    "* #### 퍼셉트론은 입출력을 갖춘 알고리즘이다. 입력을 주면 정해진 규칙에 따른 값을 출력한다.\n",
    "* #### 퍼셉트론에서는 '가중치'와 '편향'을 매개변수로 설정한다.\n",
    "* #### 퍼셉트론으로 AND, OR 게이트 등의 논리 회로를 표현할 수 있다.\n",
    "* #### XOR 게이트는 단층 퍼셉트론으로는 표현할 수 없다.\n",
    "* #### 2층 퍼셉트론을 이용하면 XOR 게이트를 표현할 수 있다.\n",
    "* #### 단층 퍼셉트론은 직선형 영역만 표현할 수 있고, 다층 퍼셉트론은 비선형 영역도 표현할 수 있다.\n",
    "* #### 다층 퍼셉트론은 (이론상) 컴퓨터를 표현할 수 있다."
   ],
   "metadata": {
    "collapsed": false
   },
   "id": "e463d6ef75732602"
  },
  {
   "cell_type": "code",
   "execution_count": 8,
   "outputs": [],
   "source": [],
   "metadata": {
    "collapsed": false,
    "ExecuteTime": {
     "end_time": "2023-12-14T06:32:46.548823Z",
     "start_time": "2023-12-14T06:32:46.422847Z"
    }
   },
   "id": "841504ae42788e7a"
  },
  {
   "cell_type": "code",
   "execution_count": null,
   "outputs": [],
   "source": [],
   "metadata": {
    "collapsed": false
   },
   "id": "cb585543b838f4a3"
  }
 ],
 "metadata": {
  "kernelspec": {
   "display_name": "Python 3",
   "language": "python",
   "name": "python3"
  },
  "language_info": {
   "codemirror_mode": {
    "name": "ipython",
    "version": 2
   },
   "file_extension": ".py",
   "mimetype": "text/x-python",
   "name": "python",
   "nbconvert_exporter": "python",
   "pygments_lexer": "ipython2",
   "version": "2.7.6"
  }
 },
 "nbformat": 4,
 "nbformat_minor": 5
}
